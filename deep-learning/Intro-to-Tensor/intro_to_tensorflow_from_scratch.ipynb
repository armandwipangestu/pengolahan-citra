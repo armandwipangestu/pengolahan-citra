{
  "cells": [
    {
      "cell_type": "markdown",
      "source": [
        "# Deep Learning - Intro to TensorFlow from Scratch\n",
        "\n",
        "- Nama            : Arman Dwi Pangestu\n",
        "- NIM             : 1221604\n",
        "- Program Studi   : Teknik Informatika\n",
        "- Semester        : 7 Antara (Ganjil)\n",
        "- Mata Kuliah     : Deep Learning\n",
        "- Dosen           : Mina Ismu Rahayu\n",
        "- Tugas           : Tugas 1 - Eksplorasi TensorFlow from Scracth\n",
        "- Tanggal         : Minggu, 28 Juli 2024"
      ],
      "metadata": {
        "id": "MqBOQSRaKvpI"
      }
    },
    {
      "cell_type": "markdown",
      "metadata": {
        "id": "DoL9AIgQrOvo"
      },
      "source": [
        "<h1 align=\"center\">TensorFlow Neural Network Lab</h1>\n",
        "\n",
        "---\n",
        "\n"
      ]
    },
    {
      "cell_type": "markdown",
      "metadata": {
        "id": "BKKdGFXMrOvu"
      },
      "source": [
        "<img src=\"image/notmnist.png\">\n",
        "In this lab, you'll use all the tools you learned from *Introduction to TensorFlow* to label images of English letters! The data you are using, <a href=\"http://yaroslavvb.blogspot.com/2011/09/notmnist-dataset.html\">notMNIST</a>, consists of images of a letter from A to J in different fonts.\n",
        "\n",
        "The above images are a few examples of the data you'll be training on. After training the network, you will compare your prediction model against test data. Your goal, by the end of this lab, is to make predictions against that test set with at least an 80% accuracy. Let's jump in!"
      ]
    },
    {
      "cell_type": "markdown",
      "source": [
        "> **Eksplorasi**: Pada lab kali ini, saya akan menggunakan semua tools untuk belajar dari *pengenalan pada TensorFlow* untuk melakukan labeling gambar dari huruf bahasa inggris, data yang akan digunakan berasal dari notMNIST, yang mengandung gambar berupa huruf dari A sampai J dengan font yang berbeda-beda.\n",
        "\n",
        "> **Eksplorasi**: Gambar diatas adalah beberapa contoh data yang akan saya lakukan training. Setelah jaringan/network di training, saya akan melakukan perbandingan dengan prediction model dengan data testing. Tujuan saya, pada akhir lab ini, adalah membuat prediksi dengan data test yang di set dengan akurasi setidaknya sebanyak 80%."
      ],
      "metadata": {
        "id": "z2MXZXUFNqMl"
      }
    },
    {
      "cell_type": "markdown",
      "metadata": {
        "id": "SgLUMShzrOvw"
      },
      "source": [
        "To start this lab, you first need to import all the necessary modules. Run the code below. If it runs successfully, it will print \"`All modules imported`\"."
      ]
    },
    {
      "cell_type": "markdown",
      "source": [
        "> **Eksplorasi**: Untuk memulai nya, saya perlu melakukan import semua module yang dibutuhkan. Untuk melakukannya jalankan code dibawah ini"
      ],
      "metadata": {
        "id": "gKv6Z96WOb1w"
      }
    },
    {
      "cell_type": "code",
      "execution_count": 1,
      "metadata": {
        "id": "1FlLwL5GrOvx",
        "colab": {
          "base_uri": "https://localhost:8080/"
        },
        "outputId": "910bbc54-4862-496a-e478-358951dd29e0"
      },
      "outputs": [
        {
          "output_type": "stream",
          "name": "stdout",
          "text": [
            "All modules imported.\n"
          ]
        }
      ],
      "source": [
        "import hashlib\n",
        "import os\n",
        "import pickle\n",
        "from urllib.request import urlretrieve\n",
        "\n",
        "import numpy as np\n",
        "from PIL import Image\n",
        "from sklearn.model_selection import train_test_split\n",
        "from sklearn.preprocessing import LabelBinarizer\n",
        "from sklearn.utils import resample\n",
        "from tqdm import tqdm\n",
        "from zipfile import ZipFile\n",
        "\n",
        "print('All modules imported.')"
      ]
    },
    {
      "cell_type": "markdown",
      "metadata": {
        "id": "1YOkXGpzrOvz"
      },
      "source": [
        "The notMNIST dataset is too large for many computers to handle.  It contains 500,000 images for just training.  You'll be using a subset of this data, 15,000 images for each label (A-J)."
      ]
    },
    {
      "cell_type": "markdown",
      "source": [
        "> **Eksplorasi**: dataset notMNIST terlalu banyak untuk beberapa komputer yang akan menghandle nya. Dataset tersebut mengandung 500,000 gambar hanya untuk training. Saya akan menggunakan subset dari data tersebut sebesar 15,000 gambar untuk setiap label (A-J)\n",
        "\n",
        "> **Eksplorasi**: Untuk melakukannya pertama disini kita download terlebih dahulu dataset notMNIST nya menggunakan library `urlretrieve` setelah itu kita lakukan pengecekan checksum file nya apakah sama atau tidak, jika tidak sama maka file tersebut corrupt."
      ],
      "metadata": {
        "id": "93Q3IBHYO2fB"
      }
    },
    {
      "cell_type": "code",
      "execution_count": 2,
      "metadata": {
        "id": "t1fkofQnrOvz",
        "colab": {
          "base_uri": "https://localhost:8080/"
        },
        "outputId": "e000b6e6-0eb2-48da-834f-d4f914c3047e"
      },
      "outputs": [
        {
          "output_type": "stream",
          "name": "stdout",
          "text": [
            "Downloading notMNIST_train.zip...\n",
            "Download Finished\n",
            "Downloading notMNIST_test.zip...\n",
            "Download Finished\n",
            "All files downloaded.\n"
          ]
        }
      ],
      "source": [
        "def download(url, file):\n",
        "    \"\"\"\n",
        "    Download file from <url>\n",
        "    :param url: URL to file\n",
        "    :param file: Local file path\n",
        "    \"\"\"\n",
        "    if not os.path.isfile(file):\n",
        "        print('Downloading ' + file + '...')\n",
        "        urlretrieve(url, file)\n",
        "        print('Download Finished')\n",
        "\n",
        "# Download the training and test dataset.\n",
        "download('https://s3.amazonaws.com/udacity-sdc/notMNIST_train.zip', 'notMNIST_train.zip')\n",
        "download('https://s3.amazonaws.com/udacity-sdc/notMNIST_test.zip', 'notMNIST_test.zip')\n",
        "\n",
        "# Make sure the files aren't corrupted\n",
        "assert hashlib.md5(open('notMNIST_train.zip', 'rb').read()).hexdigest() == 'c8673b3f28f489e9cdf3a3d74e2ac8fa',\\\n",
        "        'notMNIST_train.zip file is corrupted.  Remove the file and try again.'\n",
        "assert hashlib.md5(open('notMNIST_test.zip', 'rb').read()).hexdigest() == '5d3c7e653e63471c88df796156a9dfa9',\\\n",
        "        'notMNIST_test.zip file is corrupted.  Remove the file and try again.'\n",
        "\n",
        "# Wait until you see that all files have been downloaded.\n",
        "print('All files downloaded.')"
      ]
    },
    {
      "cell_type": "markdown",
      "source": [
        "> **Eksplorasi**: Setelah file berhasil di download dan dilakukan pengecekan checksum, selanjutnya dilakukan uncompress/unzip file dataset tersebut menggunakan library `ZipFile` dan library `tqdm` untuk memunculkan progress bar\n",
        "\n",
        "> **NOTE**: Feature adalah data dari gambar yang diload, biasanya berupa angka-angka yang merepresentasikan warna-warna pada setiap pixel nya (jika RGB maka bentuknya 3 dimensi yaitu RGB), kemudian data tersebut di konversi menjadi array 1 dimensi atau biasa disebut dengan flatten dan disimpan ke memori dengan tipe data float32\n",
        "\n",
        "> 1. Buat function untuk melakukan pengecekan saat proses uncompress/unzip apakah yang dicek isinya file atau directory\n",
        "> 2. Jika file maka simpan kedalam feature dengan cara load image data nya menjadi array 1 dimensi (`flatten`) dengan tipe data `float32` pada memory nya\n",
        "> 3. Setelah feature nya diambil, sekarang ambil data label huruf dari gambar tersebut\n",
        "> 4. Selanjutnya simpan data feature dan label tersebut kedalam array kosong\n",
        "> 5. Return dari function tersebut dengan data array feature dan label\n",
        "> 6. Selanjutnya buat 2 buah variable `train_features`, `train_labels` dan `test_features`, `test_labels` untuk menyimpan data train dan juga data test dari dataset notMNIST, kemudian isikan variable tersebut dengan cara memanggil function yang sudah dibuat\n",
        "> 7. Selanjutnya lakukan `resample` dataset train notMNIST tersebut yang berisi `500,000` gambar menjadi `15,000`\n",
        "> 8. Selanjutnya buat inisialisasi variable `is_fetatures_normal` dan `is_labels_encod` untuk state pada data pre-processing"
      ],
      "metadata": {
        "id": "7x-NMHAaPrHh"
      }
    },
    {
      "cell_type": "code",
      "execution_count": 3,
      "metadata": {
        "id": "qVBZ8Sh3rOv0",
        "colab": {
          "base_uri": "https://localhost:8080/"
        },
        "outputId": "e38d4289-731d-4ea8-eb4f-e75f782f99e5"
      },
      "outputs": [
        {
          "output_type": "stream",
          "name": "stderr",
          "text": [
            "100%|██████████| 210001/210001 [00:45<00:00, 4580.32files/s]\n",
            "100%|██████████| 10001/10001 [00:02<00:00, 3987.08files/s]\n"
          ]
        },
        {
          "output_type": "stream",
          "name": "stdout",
          "text": [
            "All features and labels uncompressed.\n"
          ]
        }
      ],
      "source": [
        "def uncompress_features_labels(file):\n",
        "    \"\"\"\n",
        "    Uncompress features and labels from a zip file\n",
        "    :param file: The zip file to extract the data from\n",
        "    \"\"\"\n",
        "    features = []\n",
        "    labels = []\n",
        "\n",
        "    with ZipFile(file) as zipf:\n",
        "        # Progress Bar\n",
        "        filenames_pbar = tqdm(zipf.namelist(), unit='files')\n",
        "\n",
        "        # Get features and labels from all files\n",
        "        for filename in filenames_pbar:\n",
        "            # Check if the file is a directory\n",
        "            if not filename.endswith('/'):\n",
        "                with zipf.open(filename) as image_file:\n",
        "                    image = Image.open(image_file)\n",
        "                    image.load()\n",
        "                    # Load image data as 1 dimensional array\n",
        "                    # We're using float32 to save on memory space\n",
        "                    feature = np.array(image, dtype=np.float32).flatten()\n",
        "\n",
        "                # Get the the letter from the filename.  This is the letter of the image.\n",
        "                label = os.path.split(filename)[1][0]\n",
        "\n",
        "                features.append(feature)\n",
        "                labels.append(label)\n",
        "    return np.array(features), np.array(labels)\n",
        "\n",
        "# Get the features and labels from the zip files\n",
        "train_features, train_labels = uncompress_features_labels('notMNIST_train.zip')\n",
        "test_features, test_labels = uncompress_features_labels('notMNIST_test.zip')\n",
        "\n",
        "# Limit the amount of data to work with a docker container\n",
        "docker_size_limit = 150000\n",
        "train_features, train_labels = resample(train_features, train_labels, n_samples=docker_size_limit)\n",
        "\n",
        "# Set flags for feature engineering.  This will prevent you from skipping an important step.\n",
        "is_features_normal = False\n",
        "is_labels_encod = False\n",
        "\n",
        "# Wait until you see that all features and labels have been uncompressed.\n",
        "print('All features and labels uncompressed.')"
      ]
    },
    {
      "cell_type": "markdown",
      "metadata": {
        "id": "LDrD3Dh5rOv3"
      },
      "source": [
        "<img src=\"image/Mean_Variance_Image.png\" style=\"height: 75%;width: 75%; position: relative; right: 5%\">\n",
        "## Problem 1\n",
        "The first problem involves normalizing the features for your training and test data.\n",
        "\n",
        "Implement Min-Max scaling in the `normalize_grayscale()` function to a range of `a=0.1` and `b=0.9`. After scaling, the values of the pixels in the input data should range from 0.1 to 0.9.\n",
        "\n",
        "Since the raw notMNIST image data is in [grayscale](https://en.wikipedia.org/wiki/Grayscale), the current values range from a min of 0 to a max of 255.\n",
        "\n",
        "Min-Max Scaling:\n",
        "$\n",
        "X'=a+{\\frac {\\left(X-X_{\\min }\\right)\\left(b-a\\right)}{X_{\\max }-X_{\\min }}}\n",
        "$\n",
        "\n",
        "*If you're having trouble solving problem 1, you can view the solution [here](https://github.com/udacity/deep-learning/blob/master/intro-to-tensorflow/intro_to_tensorflow_solution.ipynb).*"
      ]
    },
    {
      "cell_type": "markdown",
      "source": [
        "> **Eksplorasi**: Problem 1: Problem pertama adalah melibatkan normalisasi feature dari data training dan test.\n",
        "> Implementasi Min-Max scaling pada function `normalize_grayscale()` untuk sebuah rentang dari `a=0.1` dan `b=0.9`. Setelah scaling, value dari pixel input data harus berada pada rentang `0.1` dan `0.9`.\n",
        "> Dikarenakan raw data dari dataset gambar notMNIST adalah data `grayscale`, maka rentang value nya berada di minimum `0` dan maximum `255`.\n",
        ">\n",
        "> Rumus dari Min-Max Scaling adalah:\n",
        "> $\n",
        "> X'=a+{\\frac {\\left(X-X_{\\min }\\right)\\left(b-a\\right)}{X_{\\max }-X_{\\min }}}\n",
        "> $\n",
        ">\n",
        "> 1. Buat function dengan nama `normalize_grayscale(image_data)` yang menerima data feature dari gambar yang sudah di flatten sebelumnya\n",
        "> 2. Lakukan operasi dari rumus Min-Max Scaling diatas pada isian dari function tersebut dengan cara mendefinisikan beberapa variable yang diperlukan seperti, nilai range untuk `a` dan `b` yang diinginkan adalah `0.1` dan `0.9`. Selanjutnya definisikan juga nilai `X_min` dan `X_max` dari original data nya (dikarenakan pada kasus ini menggunakan data grayscale dari notMNIST dan sudah di flatten maka value nya sekitar `0` hingga `255`\n",
        "> 3. Setelah mendefinisikan variabel-variabel yang dibutuhkan selanjutnya lakukan kalkulasi atau perhitungan berdasarkan rumus Min-Max Scaling tersebut dan jika sudah selesai maka lakukan return data nya\n",
        "> 4. Selanjutnya lakukan uji kasus apakah function nya sudah sesuai yang diharapkan berdasarkan rumus Min-Max scaling tersebut, lakukan dengan sample data menggunakan numpy testing dan `assert_array_almost_equal`, parameter pertama berikan sampel data array 1 dimensi (sebagai sample data yang sudah di `flatten`), selanjutnya pada parameter kedua berikan sample value kisaran data yang mungkin mendekati dari hasil normalisasi grayscale dari rumus Min-Max scaling tersebut.\n",
        "> 5. Jika normal, maka sekarang lakukan normalisasi untuk data `training_features` dan `test_features`"
      ],
      "metadata": {
        "id": "27JcSte_VfGw"
      }
    },
    {
      "cell_type": "code",
      "execution_count": 4,
      "metadata": {
        "id": "w6XwoJCgrOv4",
        "colab": {
          "base_uri": "https://localhost:8080/"
        },
        "outputId": "177c55f2-dcc4-4f71-8f1b-60c132a06d47"
      },
      "outputs": [
        {
          "output_type": "stream",
          "name": "stdout",
          "text": [
            "Tests Passed!\n"
          ]
        }
      ],
      "source": [
        "# Problem 1 - Implement Min-Max scaling for grayscale image data\n",
        "def normalize_grayscale(image_data):\n",
        "    \"\"\"\n",
        "    Normalize the image data with Min-Max scaling to a range of [0.1, 0.9]\n",
        "    :param image_data: The image data to be normalized\n",
        "    :return: Normalized image data\n",
        "    \"\"\"\n",
        "    # TODO: Implement Min-Max scaling for grayscale image data\n",
        "    # Rumus dari Min-Max Scaling: X'=a+{\\frac {\\left(X-X_{\\min }\\right)\\left(b-a\\right)}{X_{\\max }-X_{\\min }}}\n",
        "    # Min dan Max values untuk range yang diinginkan\n",
        "    a = 0.1\n",
        "    b = 0.9\n",
        "\n",
        "    # Min and Max values untuk original data (data feature yang sudah di flatten)\n",
        "    X_min = 0\n",
        "    X_max = 255\n",
        "\n",
        "    # Melakukan perhitungan atau kalkulasi untuk Min-Max scaling\n",
        "    X_prime = a + ((image_data - X_min) * (b - a)) / (X_max - X_min)\n",
        "\n",
        "    return X_prime\n",
        "\n",
        "\n",
        "### DON'T MODIFY ANYTHING BELOW ###\n",
        "# Test Cases\n",
        "np.testing.assert_array_almost_equal(\n",
        "    normalize_grayscale(np.array([0, 1, 2, 3, 4, 5, 6, 7, 8, 9, 10, 255])),\n",
        "    [0.1, 0.103137254902, 0.106274509804, 0.109411764706, 0.112549019608, 0.11568627451, 0.118823529412, 0.121960784314,\n",
        "     0.125098039216, 0.128235294118, 0.13137254902, 0.9],\n",
        "    decimal=3)\n",
        "np.testing.assert_array_almost_equal(\n",
        "    normalize_grayscale(np.array([0, 1, 10, 20, 30, 40, 233, 244, 254,255])),\n",
        "    [0.1, 0.103137254902, 0.13137254902, 0.162745098039, 0.194117647059, 0.225490196078, 0.830980392157, 0.865490196078,\n",
        "     0.896862745098, 0.9])\n",
        "\n",
        "if not is_features_normal:\n",
        "    train_features = normalize_grayscale(train_features)\n",
        "    test_features = normalize_grayscale(test_features)\n",
        "    is_features_normal = True\n",
        "\n",
        "print('Tests Passed!')"
      ]
    },
    {
      "cell_type": "markdown",
      "source": [
        "> **Eksplorasi**: Setelah melakukan normalisasi grayscale pada data feature, selanjutnya kita lakukan konversi atau transform atau ubah data label menjadi binary dengan One-Hot Encoding\n",
        ">\n",
        "> Sebagai contoh, data label yang digunakan adalah berisi kategorikal seperti `A, B, C, ..., J`. Nah, data tersebut rupanya sulit untuk dipahami oleh model machine learning atau deep learning pada saat proses pemilihan fully-connected layer output atau dense layer output seperti menggunakan algoritma softmax. Oleh karena itu, kita perlu mengubah data label tersebut menjadi numerical, seperti misalkan A, B, C. Maka `A = [1, 0, 0]`, `B = [0, 1, 0]`, dan `C = [0, 0, 1]`"
      ],
      "metadata": {
        "id": "AO9oypY9dlJb"
      }
    },
    {
      "cell_type": "code",
      "execution_count": 5,
      "metadata": {
        "id": "d0eYlGv2rOv8",
        "colab": {
          "base_uri": "https://localhost:8080/"
        },
        "outputId": "40e84234-ddc1-49d2-8d73-a992d23c3917"
      },
      "outputs": [
        {
          "output_type": "stream",
          "name": "stdout",
          "text": [
            "Labels One-Hot Encoded\n"
          ]
        }
      ],
      "source": [
        "if not is_labels_encod:\n",
        "    # Turn labels into numbers and apply One-Hot Encoding\n",
        "    encoder = LabelBinarizer()\n",
        "    encoder.fit(train_labels)\n",
        "    train_labels = encoder.transform(train_labels)\n",
        "    test_labels = encoder.transform(test_labels)\n",
        "\n",
        "    # Change to float32, so it can be multiplied against the features in TensorFlow, which are float32\n",
        "    train_labels = train_labels.astype(np.float32)\n",
        "    test_labels = test_labels.astype(np.float32)\n",
        "    is_labels_encod = True\n",
        "\n",
        "print('Labels One-Hot Encoded')"
      ]
    },
    {
      "cell_type": "markdown",
      "source": [
        "> **Eksplorasi**: Setelah proses normalisasi grayscale dan transform label menjadi binary. Selanjutnya melakukan proses Randomize dan split dataset untuk training dan validation. Mengapa hal ini diperlukan?\n",
        "> 1. **Menghindari overfitting**: Memiliki set data terpisah untuk pelatihan (training) dan validasi (validation) memungkinkan kita memeriksa apakah model kita hanya menghafal data pelatihan atau benar-benar belajar pola yang dapat digeneralisasikan ke data baru. Tanpa pemisahan ini, kita tidak dapat menilai kinerja model pada data yang belum pernah dilihat sebelumnya.\n",
        "> 2. **Meningkatkan Generalisasi**: Dengan membagi dataset menjadi bagian training dan validation, kita bisa memastikan bahwa model kita belajar dari data yang representatif dari seluruh dataset, bukan hanya dari subset tertentu. Ini membantu model untuk lebih baik dalam mengeneralisasi ke data yang tidak terlihat.\n",
        "> 3. **Menyediakan Evaluasi yang Akurat**: Validasi selama pelatihan memberikan kita pandangan tentang bagaimana model kita berkinerja pada data yang tidak dilihat selama pelatihan. Ini membantu kita mengatur hyperparameter model dan memilih model terbaik berdasarkan kinerja pada data validation.\n",
        ">\n",
        "> **NOTE**:\n",
        "> 1. parameter `test_size=0.05` artinya adalah kita menentukan proporsi data yang akan digunakan untuk set validasi. Artinya, `5%` dari data akan digunakan untuk validasi dan `95%` untuk pelatihan.\n",
        "> 2. parameter `random_state=832289` adalah seed untuk generator angka acak yang digunakan untuk memastikan bahwa pemisahan dataset dapat direproduksi. Ini berarti setiap kali Anda menjalankan kode, pemisahan akan sama, yang penting untuk konsistensi dalam eksperimen dan pelaporan.\n",
        ">\n",
        "> **Bagaimana Cara Kerja Random State?**\n",
        "> Misalkan kita memiliki dataset yang terdiri dari `10` angka, yaitu `1` sampai `10`. Sekarang, jika kita ingin membaginya menjadi dataset pelatihan dan pengujian, dengan ukuran dataset pengujian sebesar `20%` dari keseluruhan dataset, maka dataset pelatihan akan terdiri dari `8` sampel data, sedangkan dataset pengujian akan terdiri dari `2` sampel data.\n",
        ">\n",
        "> Penting untuk memastikan bahwa proses pengacakan dataset menghasilkan hasil yang konsisten setiap saat, sehingga kode dapat direproduksi. Tanpa pengacakan dataset, setiap eksekusi kode dapat menghasilkan dataset yang berbeda, yang tidak ideal untuk melatih model karena setiap latihan menggunakan data yang berbeda. Oleh karena itu, setiap kali kita ingin mengacak dataset, kita menggunakan nilai `random_state`. Ini memastikan bahwa satu nilai `random_state` menghasilkan pengacakan yang konsisten, sehingga setiap kali kode dijalankan dengan nilai `random_state` yang sama, akan menghasilkan pembagian dataset yang serupa. Ini sangat penting utnuk memastikan konsistensi dalam percobaan dan evaluasi model."
      ],
      "metadata": {
        "id": "SFQSLF2DiRqI"
      }
    },
    {
      "cell_type": "code",
      "execution_count": 6,
      "metadata": {
        "id": "4QVvGTMbrOv9",
        "colab": {
          "base_uri": "https://localhost:8080/"
        },
        "outputId": "210e326a-e2f1-400d-dfeb-9caa0c8c7a61"
      },
      "outputs": [
        {
          "output_type": "stream",
          "name": "stdout",
          "text": [
            "Training features and labels randomized and split.\n"
          ]
        }
      ],
      "source": [
        "assert is_features_normal, 'You skipped the step to normalize the features'\n",
        "assert is_labels_encod, 'You skipped the step to One-Hot Encode the labels'\n",
        "\n",
        "# Get randomized datasets for training and validation\n",
        "train_features, valid_features, train_labels, valid_labels = train_test_split(\n",
        "    train_features,\n",
        "    train_labels,\n",
        "    test_size=0.05,\n",
        "    random_state=832289)\n",
        "\n",
        "print('Training features and labels randomized and split.')"
      ]
    },
    {
      "cell_type": "markdown",
      "source": [
        "> **Eksplorasi**: Setelah melakukan randomize dan split data, selanjutnya kita perlu menyimpan data dalam bentuk pickle. Mengapa perlu melakukannya?\n",
        "> 1. **Akses yang cepat dan mudah**: Setelah melakukan pre-processing, seperti normalisasi feature dan one-hot encoding label, serta membagi dataset, proses ini bisa memakan waktu lama. Menyimpan data yang telah diproses dalam file pickle memungkinkan akses cepat dan mudah ke data ini tanpa harus mengulang langkah pre-processing setiap kali.\n",
        "> 2. **Konsistensi Data**: Dengan menyimpan data yang telah diproses, Anda memastikan bahwa setiap kali data di-load kembali, kondisinya tetap sama. Ini penting untuk konsistensi dalam eksperimen dan pelatihan model.\n",
        "> 3. **Menghemat waktu dan sumber daya**: Proses pre-processing dapat memakan banyak waktu dan sumber daya komputasi. Dengan menyimpan data yang telah diproses, Anda menghemat waktu dan sumber daya karena tidak perlu mengulang proses tersebut setiap kali ingin menggunakan data.\n",
        "> 4. **Keperluan pengembangan dan eksplorasi**: Saat mengembangkan dan mengeksplorasi model machine learning, Anda mungkin akan sering memuat dan mengubah data. Menyimpan data dalam bentuk pickle memungkinkan pengembang untuk fokus pada pengembangan model tanpa harus khawatir tentang pre-processing yang berulang."
      ],
      "metadata": {
        "id": "KRbcRSWM8eSA"
      }
    },
    {
      "cell_type": "code",
      "execution_count": 7,
      "metadata": {
        "id": "ypiEvu-MrOv-",
        "colab": {
          "base_uri": "https://localhost:8080/"
        },
        "outputId": "920a6494-5a75-4fd3-8c8d-7e5bacf24802"
      },
      "outputs": [
        {
          "output_type": "stream",
          "name": "stdout",
          "text": [
            "Saving data to pickle file...\n",
            "Data cached in pickle file.\n"
          ]
        }
      ],
      "source": [
        "# Save the data for easy access\n",
        "pickle_file = 'notMNIST.pickle'\n",
        "if not os.path.isfile(pickle_file):\n",
        "    print('Saving data to pickle file...')\n",
        "    try:\n",
        "        with open('notMNIST.pickle', 'wb') as pfile:\n",
        "            pickle.dump(\n",
        "                {\n",
        "                    'train_dataset': train_features,\n",
        "                    'train_labels': train_labels,\n",
        "                    'valid_dataset': valid_features,\n",
        "                    'valid_labels': valid_labels,\n",
        "                    'test_dataset': test_features,\n",
        "                    'test_labels': test_labels,\n",
        "                },\n",
        "                pfile, pickle.HIGHEST_PROTOCOL)\n",
        "    except Exception as e:\n",
        "        print('Unable to save data to', pickle_file, ':', e)\n",
        "        raise\n",
        "\n",
        "print('Data cached in pickle file.')"
      ]
    },
    {
      "cell_type": "markdown",
      "metadata": {
        "id": "SJXSdySPrOv-"
      },
      "source": [
        "# Checkpoint\n",
        "All your progress is now saved to the pickle file.  If you need to leave and comeback to this lab, you no longer have to start from the beginning.  Just run the code block below and it will load all the data and modules required to proceed."
      ]
    },
    {
      "cell_type": "markdown",
      "source": [
        "> **Eksplorasi**: Melakukan inisialisai variabel yang dibutuhkan berdasarkan atau menggunakan data yang sudah disimpan dengan pickle sehingga tidak perlu melakukan pre-processing seperti normalisasi, one-hot encoding label, serta membagi dataset."
      ],
      "metadata": {
        "id": "jLt6KUiJ-Tiy"
      }
    },
    {
      "cell_type": "code",
      "execution_count": 8,
      "metadata": {
        "id": "Ni8SvH0lrOv_",
        "colab": {
          "base_uri": "https://localhost:8080/"
        },
        "outputId": "2f0be643-2893-47fd-fb42-01550d813a7a"
      },
      "outputs": [
        {
          "output_type": "stream",
          "name": "stdout",
          "text": [
            "Data and modules loaded.\n"
          ]
        }
      ],
      "source": [
        "%matplotlib inline\n",
        "\n",
        "# Load the modules\n",
        "import pickle\n",
        "import math\n",
        "\n",
        "import numpy as np\n",
        "import tensorflow as tf\n",
        "from tqdm import tqdm\n",
        "import matplotlib.pyplot as plt\n",
        "\n",
        "# Reload the data\n",
        "pickle_file = 'notMNIST.pickle'\n",
        "with open(pickle_file, 'rb') as f:\n",
        "  pickle_data = pickle.load(f)\n",
        "  train_features = pickle_data['train_dataset']\n",
        "  train_labels = pickle_data['train_labels']\n",
        "  valid_features = pickle_data['valid_dataset']\n",
        "  valid_labels = pickle_data['valid_labels']\n",
        "  test_features = pickle_data['test_dataset']\n",
        "  test_labels = pickle_data['test_labels']\n",
        "  del pickle_data  # Free up memory\n",
        "\n",
        "print('Data and modules loaded.')"
      ]
    },
    {
      "cell_type": "markdown",
      "metadata": {
        "id": "bN4WinncrOv_"
      },
      "source": [
        "\n",
        "## Problem 2\n",
        "\n",
        "Now it's time to build a simple neural network using TensorFlow. Here, your network will be just an input layer and an output layer.\n",
        "\n",
        "<img src=\"image/network_diagram.png\" style=\"height: 40%;width: 40%; position: relative; right: 10%\">\n",
        "\n",
        "For the input here the images have been flattened into a vector of $28 \\times 28 = 784$ features. Then, we're trying to predict the image digit so there are 10 output units, one for each label. Of course, feel free to add hidden layers if you want, but this notebook is built to guide you through a single layer network.\n",
        "\n",
        "For the neural network to train on your data, you need the following <a href=\"https://www.tensorflow.org/resources/dims_types.html#data-types\">float32</a> tensors:\n",
        " - `features`\n",
        "  - Placeholder tensor for feature data (`train_features`/`valid_features`/`test_features`)\n",
        " - `labels`\n",
        "  - Placeholder tensor for label data (`train_labels`/`valid_labels`/`test_labels`)\n",
        " - `weights`\n",
        "  - Variable Tensor with random numbers from a truncated normal distribution.\n",
        "    - See <a href=\"https://www.tensorflow.org/api_docs/python/constant_op.html#truncated_normal\">`tf.truncated_normal()` documentation</a> for help.\n",
        " - `biases`\n",
        "  - Variable Tensor with all zeros.\n",
        "    - See <a href=\"https://www.tensorflow.org/api_docs/python/constant_op.html#zeros\"> `tf.zeros()` documentation</a> for help.\n",
        "\n",
        "*If you're having trouble solving problem 2, review \"TensorFlow Linear Function\" section of the class.  If that doesn't help, the solution for this problem is available [here](intro_to_tensorflow_solution.ipynb).*"
      ]
    },
    {
      "cell_type": "markdown",
      "source": [
        "> **Eksplorasi**: Problem 2: Sekarang waktunya untuk membuat sebuah simpel neural network menggunakan TensorFlow. Disini, network saya akan hanya menggunakan input layer dan output layer.\n",
        ">\n",
        "> Untuk input disini gambar sudah di lakukan flattened atau diubah menjadi array 1 dimensi dengan vektor `28 x 28 = 748 features`. Lalu, kita mencoba melakukan prediksi dari angka gambar tersebut yang dimana terdapat 10 output units, satu untuk setiap label. Tentu, dengan bebas untuk menambahkan hidden layer jika kamu ingin, tapi pada notebook ini dibuat untuk menyontohkan kamu untuk satu buah single layer network.\n",
        ">\n",
        "> Untuk neural network agar bisa melakukan training di data kamu, kamu membutuhkan dengan mengikuti `float32` tensors\n",
        "> 1. `Features`\n",
        ">   - Placeholder tensor untuk feature data dari `train_features` / `valid_features` / `test_features`\n",
        "> 2. `Labels`\n",
        ">   - Placeholder tensor untuk label data dari `train_labels` / `valid_labels` / `test_labels`\n",
        "> 3. `Weights`\n",
        ">   - Variable tensor dengan angka acak dari sebuah truncated normal distribution.\n",
        ">     - `tf.truncated_normal()`\n",
        "> 4. `Biases`\n",
        ">   - Variable tensor dengan semua nol\n",
        ">     - `tf.zeros()`\n",
        ">\n",
        "> Implementasi simple neural network: input layer dan output layer\n",
        "> 1. Menetapkan placeholder untuk features dan labels\n",
        ">   - Placeholder digunakan untuk menyimpan data input (features) dan output (labels) saat menjalankan sesi TensorFlow.\n",
        ">   - Placeholder ini diisi saat sesi dijalankan dengan menggunakan `feed_dict`.\n",
        "> 2. Menetapkan Tensor untuk Weight dan Biases:\n",
        ">   - Weight dan biases adalah variabel TensorFlow yang akan diinisialisasi dan dioptimalkan selama pelatihan.\n",
        ">   - Weights menghubungkan input layer dengan output layer, dan biases menambahkan nilai konstan ke setiap neuron di output layer.\n",
        "> 3. Mengimplementasikan Fungsi Linear `WX + b` (activation function, summation and bias):\n",
        ">   - Ini adalah operasi dasar yang dilakukan oleh neuron di layer jaringan saraf\n",
        ">   - `logits` adalah hasil dari operasi ini sebelum activation function diterapkan.\n",
        "> 4. Menggunakan Fungsi Softmax untuk prediksi:\n",
        ">   - Fungsi Softmax mengubah logits menjadi probabilitas untuk setiap kelas di output layer.\n",
        "> 5. Menghitung Cross-Entropy Loss:\n",
        ">   - Cross-entropy loss digunakan untuk mengukur kesalahan antara prediksi model dan label sebenarnya.\n",
        "> 6. Menginisialisasi semua variabel:\n",
        ">   - Operasi inisialisasi variabel digunakan untuk menetapkan nilai awal untuk semua variabel TensorFlow."
      ],
      "metadata": {
        "id": "ygtOfYUI_oEG"
      }
    },
    {
      "cell_type": "code",
      "execution_count": 20,
      "metadata": {
        "id": "q5XBuuTErOv_",
        "colab": {
          "base_uri": "https://localhost:8080/"
        },
        "outputId": "e13625e8-00e7-4247-e673-dd96f8701258"
      },
      "outputs": [
        {
          "output_type": "stream",
          "name": "stdout",
          "text": [
            "Tests Passed!\n"
          ]
        }
      ],
      "source": [
        "# Disable eager execution to use TensorFlow 1.x functionality\n",
        "tf.compat.v1.disable_eager_execution()\n",
        "\n",
        "# All the pixels in the image (28 * 28 = 784)\n",
        "features_count = 784\n",
        "# All the labels\n",
        "labels_count = 10\n",
        "\n",
        "# TODO: Set the features and labels tensors\n",
        "\"\"\" TensorFlow 1.x\n",
        "\"\"\"\n",
        "features = tf.compat.v1.placeholder(tf.float32, [None, features_count], name=\"features\")\n",
        "labels = tf.compat.v1.placeholder(tf.float32, [None, labels_count], name=\"labels\")\n",
        "\"\"\" TensorFlow 2.x\n",
        "features = tf.keras.Input(shape=(features_count,), name=\"features\")\n",
        "labels = tf.keras.Input(shape=(labels_count,), name=\"labels\")\n",
        "\"\"\"\n",
        "\n",
        "# TODO: Set the weights and biases tensors\n",
        "weights = tf.Variable(tf.random.truncated_normal([features_count, labels_count]), name=\"weights\")\n",
        "biases = tf.Variable(tf.zeros([labels_count]), name=\"biases\")\n",
        "\n",
        "### DON'T MODIFY ANYTHING BELOW ###\n",
        "\n",
        "#Test Cases\n",
        "from tensorflow.python.ops.variables import Variable\n",
        "\n",
        "\"\"\" TensorFlow 1.x\n",
        "\"\"\"\n",
        "#assert features._op.name.startswith('Placeholder'), 'features must be a placeholder'\n",
        "#assert labels._op.name.startswith('Placeholder'), 'labels must be a placeholder'\n",
        "assert features.op.type == 'Placeholder', 'features must be a placeholder'\n",
        "assert labels.op.type == 'Placeholder', 'labels must be a placeholder'\n",
        "assert isinstance(weights, Variable), 'weights must be a TensorFlow variable'\n",
        "assert isinstance(biases, Variable), 'biases must be a TensorFlow variable'\n",
        "\n",
        "\"\"\"\n",
        "assert features._shape == None or (\\\n",
        "    features._shape.dims[0].value is None and\\\n",
        "    features._shape.dims[1].value in [None, 784]), 'The shape of features is incorrect'\n",
        "assert labels._shape  == None or (\\\n",
        "    labels._shape.dims[0].value is None and\\\n",
        "    labels._shape.dims[1].value in [None, 10]), 'The shape of labels is incorrect'\n",
        "assert weights._variable._shape == (784, 10), 'The shape of weights is incorrect'\n",
        "assert biases._variable._shape == (10), 'The shape of biases is incorrect'\n",
        "\n",
        "assert features._dtype == tf.float32, 'features must be type float32'\n",
        "assert labels._dtype == tf.float32, 'labels must be type float32'\n",
        "\"\"\"\n",
        "\n",
        "\"\"\" TensorFlow 2.x\n",
        "assert isinstance(features, tf.Tensor), 'features must be a TensorFlow tensor'\n",
        "assert isinstance(labels, tf.Tensor), 'labels must be a TensorFlow tensor'\n",
        "assert isinstance(weights, tf.Variable), 'weights must be a TensorFlow variable'\n",
        "assert isinstnace(biases, tf.Variable), 'biases must be a TensorFlow variable'\n",
        "\"\"\"\n",
        "\n",
        "assert features.shape == (None, 784), 'The shape of features is incorrect'\n",
        "assert labels.shape == (None, 10), 'The shape of labels is incorrect'\n",
        "assert weights.shape == (784, 10), 'The shape of weights is incorrect'\n",
        "assert biases.shape == (10,), 'The shape of biases is incorrect'\n",
        "\n",
        "assert features.dtype == tf.float32, 'features must be type float32'\n",
        "assert labels.dtype == tf.float32, 'labels must be type float32'\n",
        "\n",
        "# Feed dicts for training, validation, and test session\n",
        "train_feed_dict = {features: train_features, labels: train_labels}\n",
        "valid_feed_dict = {features: valid_features, labels: valid_labels}\n",
        "test_feed_dict = {features: test_features, labels: test_labels}\n",
        "\n",
        "# Linear Function WX + b\n",
        "logits = tf.matmul(features, weights) + biases\n",
        "\n",
        "prediction = tf.nn.softmax(logits)\n",
        "\n",
        "# Cross entropy\n",
        "\"\"\" TensorFlow 1.x\n",
        "cross_entropy = -tf.reduce_sum(labels * tf.log(prediction), reduction_indices=1)\n",
        "\"\"\"\n",
        "\"\"\" TensorFlow 2.x\n",
        "\"\"\"\n",
        "cross_entropy = -tf.reduce_sum(labels * tf.math.log(prediction), axis=1)\n",
        "\n",
        "# Training loss\n",
        "loss = tf.reduce_mean(cross_entropy)\n",
        "\n",
        "# Create an operation that initializes all variables\n",
        "\"\"\" TensorFlow 1.x\n",
        "init = tf.global_variables_initializer()\n",
        "\"\"\"\n",
        "\"\"\" TensorFlow 2.x\n",
        "\"\"\"\n",
        "init = tf.compat.v1.global_variables_initializer()\n",
        "\n",
        "# Test Cases\n",
        "\"\"\" TensorFlow 1.x\n",
        "with tf.Session() as session:\n",
        "    session.run(init)\n",
        "    session.run(loss, feed_dict=train_feed_dict)\n",
        "    session.run(loss, feed_dict=valid_feed_dict)\n",
        "    session.run(loss, feed_dict=test_feed_dict)\n",
        "    biases_data = session.run(biases)\n",
        "\"\"\"\n",
        "\"\"\" TensorFlow 2.x\n",
        "\"\"\"\n",
        "with tf.compat.v1.Session() as session:\n",
        "    session.run(init)\n",
        "    session.run(loss, feed_dict=train_feed_dict)\n",
        "    session.run(loss, feed_dict=valid_feed_dict)\n",
        "    session.run(loss, feed_dict=test_feed_dict)\n",
        "    biases_data = session.run(biases)\n",
        "\n",
        "assert not np.count_nonzero(biases_data), 'biases must be zeros'\n",
        "\n",
        "print('Tests Passed!')"
      ]
    },
    {
      "cell_type": "markdown",
      "source": [
        "> **Eksplorasi**: Setelah implementasi neural network nya, selanjutnya lakukan pengecekan apakah prediksi model nya benar atau tidak dengan membandingkan prediksi dengan label sebenarnya. Akurasi adalah metrik umum yang digunakan untuk mengevaluasi performa model klasifikasi, yang menunjukkan proporsi prediksi yang benar dari seluruh prediksi yang dibuat."
      ],
      "metadata": {
        "id": "1FPYsBvi1Ip9"
      }
    },
    {
      "cell_type": "code",
      "execution_count": 21,
      "metadata": {
        "id": "iRZPhGf2rOwA",
        "colab": {
          "base_uri": "https://localhost:8080/"
        },
        "outputId": "ae1a23c8-be92-4d5d-9ed2-fbe7ec245616"
      },
      "outputs": [
        {
          "output_type": "stream",
          "name": "stdout",
          "text": [
            "Accuracy function created.\n"
          ]
        }
      ],
      "source": [
        "# Determine if the predictions are correct\n",
        "is_correct_prediction = tf.equal(tf.argmax(prediction, 1), tf.argmax(labels, 1))\n",
        "# Calculate the accuracy of the predictions\n",
        "accuracy = tf.reduce_mean(tf.cast(is_correct_prediction, tf.float32))\n",
        "\n",
        "print('Accuracy function created.')"
      ]
    },
    {
      "cell_type": "markdown",
      "metadata": {
        "id": "tk0-MfXmrOwA"
      },
      "source": [
        "<img src=\"image/Learn_Rate_Tune_Image.png\" style=\"height: 70%;width: 70%\">\n",
        "## Problem 3\n",
        "Below are 2 parameter configurations for training the neural network. In each configuration, one of the parameters has multiple options. For each configuration, choose the option that gives the best acccuracy.\n",
        "\n",
        "Parameter configurations:\n",
        "\n",
        "Configuration 1\n",
        "* **Epochs:** 1\n",
        "* **Learning Rate:**\n",
        "  * 0.8\n",
        "  * 0.5\n",
        "  * 0.1\n",
        "  * 0.05\n",
        "  * 0.01\n",
        "\n",
        "Configuration 2\n",
        "* **Epochs:**\n",
        "  * 1\n",
        "  * 2\n",
        "  * 3\n",
        "  * 4\n",
        "  * 5\n",
        "* **Learning Rate:** 0.2\n",
        "\n",
        "The code will print out a Loss and Accuracy graph, so you can see how well the neural network performed.\n",
        "\n",
        "*If you're having trouble solving problem 3, you can view the solution [here](intro_to_tensorflow_solution.ipynb).*"
      ]
    },
    {
      "cell_type": "markdown",
      "source": [
        "> **Eksplorasi**: Selanjutnya masuk kedalam problem 3 yang dimana terdapat 2 parameter konfigurasi utnuk training neural network nya, pada masing-masing configuration, satu parameter mempunyai multiple options. Untuk setiap konfigurasi, pilih dari opsi yang memberikan best accuracy.\n",
        ">\n",
        "> Setelah training neural network dilakukan, selanjutnya dilakukan plotting grafik untuk melihat hasil pembelajarannya"
      ],
      "metadata": {
        "id": "aLoWqjK89zPZ"
      }
    },
    {
      "cell_type": "code",
      "execution_count": 39,
      "metadata": {
        "id": "5Nherfe-rOwB",
        "colab": {
          "base_uri": "https://localhost:8080/",
          "height": 521
        },
        "outputId": "c8462f92-b201-4bb4-d9fc-dbf322774693"
      },
      "outputs": [
        {
          "output_type": "stream",
          "name": "stderr",
          "text": [
            "Epoch  1/1: 100%|██████████| 1114/1114 [00:16<00:00, 68.80batches/s]\n"
          ]
        },
        {
          "output_type": "display_data",
          "data": {
            "text/plain": [
              "<Figure size 640x480 with 2 Axes>"
            ],
            "image/png": "[encoded data removed]"
          },
          "metadata": {}
        },
        {
          "output_type": "stream",
          "name": "stdout",
          "text": [
            "Validation accuracy at 0.7501333355903625\n"
          ]
        }
      ],
      "source": [
        "# Change if you have memory restrictions\n",
        "batch_size = 128\n",
        "\n",
        "# TODO: Find the best parameters for each configuration\n",
        "epochs = 1\n",
        "learning_rate = 0.5\n",
        "\n",
        "### DON'T MODIFY ANYTHING BELOW ###\n",
        "# Gradient Descent\n",
        "optimizer = tf.compat.v1.train.GradientDescentOptimizer(learning_rate).minimize(loss)\n",
        "\n",
        "# The accuracy measured against the validation set\n",
        "validation_accuracy = 0.0\n",
        "\n",
        "# Measurements use for graphing loss and accuracy\n",
        "log_batch_step = 50\n",
        "batches = []\n",
        "loss_batch = []\n",
        "train_acc_batch = []\n",
        "valid_acc_batch = []\n",
        "\n",
        "with tf.compat.v1.Session() as session:\n",
        "    session.run(init)\n",
        "    batch_count = int(math.ceil(len(train_features)/batch_size))\n",
        "\n",
        "    for epoch_i in range(epochs):\n",
        "\n",
        "        # Progress bar\n",
        "        batches_pbar = tqdm(range(batch_count), desc='Epoch {:>2}/{}'.format(epoch_i+1, epochs), unit='batches')\n",
        "\n",
        "        # The training cycle\n",
        "        for batch_i in batches_pbar:\n",
        "            # Get a batch of training features and labels\n",
        "            batch_start = batch_i*batch_size\n",
        "            batch_features = train_features[batch_start:batch_start + batch_size]\n",
        "            batch_labels = train_labels[batch_start:batch_start + batch_size]\n",
        "\n",
        "            # Run optimizer and get loss\n",
        "            _, l = session.run(\n",
        "                [optimizer, loss],\n",
        "                feed_dict={features: batch_features, labels: batch_labels})\n",
        "\n",
        "            # Log every 50 batches\n",
        "            if not batch_i % log_batch_step:\n",
        "                # Calculate Training and Validation accuracy\n",
        "                training_accuracy = session.run(accuracy, feed_dict=train_feed_dict)\n",
        "                validation_accuracy = session.run(accuracy, feed_dict=valid_feed_dict)\n",
        "\n",
        "                # Log batches\n",
        "                previous_batch = batches[-1] if batches else 0\n",
        "                batches.append(log_batch_step + previous_batch)\n",
        "                loss_batch.append(l)\n",
        "                train_acc_batch.append(training_accuracy)\n",
        "                valid_acc_batch.append(validation_accuracy)\n",
        "\n",
        "        # Check accuracy against Validation data\n",
        "        validation_accuracy = session.run(accuracy, feed_dict=valid_feed_dict)\n",
        "\n",
        "loss_plot = plt.subplot(211)\n",
        "loss_plot.set_title('Loss')\n",
        "loss_plot.plot(batches, loss_batch, 'g')\n",
        "loss_plot.set_xlim([batches[0], batches[-1]])\n",
        "acc_plot = plt.subplot(212)\n",
        "acc_plot.set_title('Accuracy')\n",
        "acc_plot.plot(batches, train_acc_batch, 'r', label='Training Accuracy')\n",
        "acc_plot.plot(batches, valid_acc_batch, 'x', label='Validation Accuracy')\n",
        "acc_plot.set_ylim([0, 1.0])\n",
        "acc_plot.set_xlim([batches[0], batches[-1]])\n",
        "acc_plot.legend(loc=4)\n",
        "plt.tight_layout()\n",
        "plt.show()\n",
        "\n",
        "print('Validation accuracy at {}'.format(validation_accuracy))"
      ]
    },
    {
      "cell_type": "markdown",
      "metadata": {
        "id": "4ZXu63xBrOwB"
      },
      "source": [
        "## Test\n",
        "You're going to test your model against your hold out dataset/testing data.  This will give you a good indicator of how well the model will do in the real world.  You should have a test accuracy of at least 80%."
      ]
    },
    {
      "cell_type": "markdown",
      "source": [
        "> **Eksplorasi**: Setelah model di training, selanjutnya dilakukan test kepada model tersebut menggunakan kumpulan data hold out/data pengujian anda. Ini akan memberikan anda indikator yang baik tentang seberapa baik kinerja model bekerja di dunia nyata. Anda harus memiliki akurai pengujian minimal 80%."
      ],
      "metadata": {
        "id": "vBi6RSy4Cwqh"
      }
    },
    {
      "cell_type": "code",
      "execution_count": 41,
      "metadata": {
        "id": "_7K3as32rOwB",
        "colab": {
          "base_uri": "https://localhost:8080/"
        },
        "outputId": "1c95d276-14d2-4f97-b9b6-25795e094692"
      },
      "outputs": [
        {
          "output_type": "stream",
          "name": "stderr",
          "text": [
            "Epoch  1/1: 100%|██████████| 1114/1114 [00:01<00:00, 823.32batches/s]\n"
          ]
        },
        {
          "output_type": "stream",
          "name": "stdout",
          "text": [
            "Nice Job! Test Accuracy is 0.8264999985694885\n"
          ]
        }
      ],
      "source": [
        "### DON'T MODIFY ANYTHING BELOW ###\n",
        "# The accuracy measured against the test set\n",
        "test_accuracy = 0.0\n",
        "\n",
        "with tf.compat.v1.Session() as session:\n",
        "\n",
        "    session.run(init)\n",
        "    batch_count = int(math.ceil(len(train_features)/batch_size))\n",
        "\n",
        "    for epoch_i in range(epochs):\n",
        "\n",
        "        # Progress bar\n",
        "        batches_pbar = tqdm(range(batch_count), desc='Epoch {:>2}/{}'.format(epoch_i+1, epochs), unit='batches')\n",
        "\n",
        "        # The training cycle\n",
        "        for batch_i in batches_pbar:\n",
        "            # Get a batch of training features and labels\n",
        "            batch_start = batch_i*batch_size\n",
        "            batch_features = train_features[batch_start:batch_start + batch_size]\n",
        "            batch_labels = train_labels[batch_start:batch_start + batch_size]\n",
        "\n",
        "            # Run optimizer\n",
        "            _ = session.run(optimizer, feed_dict={features: batch_features, labels: batch_labels})\n",
        "\n",
        "        # Check accuracy against Test data\n",
        "        test_accuracy = session.run(accuracy, feed_dict=test_feed_dict)\n",
        "\n",
        "\n",
        "assert test_accuracy >= 0.80, 'Test accuracy at {}, should be equal to or greater than 0.80'.format(test_accuracy)\n",
        "print('Nice Job! Test Accuracy is {}'.format(test_accuracy))"
      ]
    },
    {
      "cell_type": "markdown",
      "metadata": {
        "id": "MIiOw1a5rOwC"
      },
      "source": [
        "# Multiple layers\n",
        "Good job!  You built a one layer TensorFlow network!  However, you might want to build more than one layer.  This is deep learning after all!  In the next section, you will start to satisfy your need for more layers."
      ]
    }
  ],
  "metadata": {
    "anaconda-cloud": {},
    "kernelspec": {
      "display_name": "Python 3",
      "language": "python",
      "name": "python3"
    },
    "language_info": {
      "codemirror_mode": {
        "name": "ipython",
        "version": 3
      },
      "file_extension": ".py",
      "mimetype": "text/x-python",
      "name": "python",
      "nbconvert_exporter": "python",
      "pygments_lexer": "ipython3",
      "version": "3.5.2"
    },
    "colab": {
      "provenance": []
    }
  },
  "nbformat": 4,
  "nbformat_minor": 0
}